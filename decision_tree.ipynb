{
 "cells": [
  {
   "cell_type": "markdown",
   "id": "675611d9",
   "metadata": {},
   "source": [
    "# Libraries"
   ]
  },
  {
   "cell_type": "code",
   "execution_count": 120,
   "id": "548d5b28",
   "metadata": {},
   "outputs": [],
   "source": [
    "import pandas as pd\n",
    "import numpy as np\n",
    "import matplotlib.pyplot as plt\n",
    "\n",
    "# Mahine Learning\n",
    "from sklearn.model_selection import StratifiedShuffleSplit\n",
    "from sklearn import tree\n",
    "from sklearn.metrics import accuracy_score, confusion_matrix, precision_score, recall_score\n",
    "from sklearn.ensemble import RandomForestClassifier, AdaBoostClassifier"
   ]
  },
  {
   "cell_type": "markdown",
   "id": "03109d11",
   "metadata": {},
   "source": [
    "# Dataset"
   ]
  },
  {
   "cell_type": "code",
   "execution_count": 18,
   "id": "5c87b111",
   "metadata": {},
   "outputs": [],
   "source": [
    "data = pd.read_csv('creditcard.csv')"
   ]
  },
  {
   "cell_type": "markdown",
   "id": "0b3fa513",
   "metadata": {},
   "source": [
    "# Analysis"
   ]
  },
  {
   "cell_type": "code",
   "execution_count": 35,
   "id": "e3fd9288",
   "metadata": {},
   "outputs": [
    {
     "name": "stdout",
     "output_type": "stream",
     "text": [
      "Total number of transactions: 284807\n",
      "Frauds: 492 or 0.17%\n",
      "Normal transactions: 284315 or 99.83%\n"
     ]
    }
   ],
   "source": [
    "n_transactions = data['Class'].count()\n",
    "n_frauds = dados['Class'].sum()\n",
    "n_ok_trans = n_transactions - n_frauds\n",
    "\n",
    "print(f'Total number of transactions: {n_transactions}')\n",
    "print(f'Frauds: {n_frauds} or {(n_frauds / n_transactions) * 100:.2f}%')\n",
    "print(f'Normal transactions: {n_ok_trans} or {(n_ok_trans / n_transactions) * 100:.2f}%')"
   ]
  },
  {
   "cell_type": "markdown",
   "id": "d1b45a56",
   "metadata": {},
   "source": [
    "## Def's"
   ]
  },
  {
   "cell_type": "code",
   "execution_count": 90,
   "id": "ff892348",
   "metadata": {},
   "outputs": [],
   "source": [
    "def execute_validator(X,y):\n",
    "    validator = StratifiedShuffleSplit(n_splits=1, test_size=0.1, random_state=0)\n",
    "    for train_id, test_id in validator.split(X, y):\n",
    "        X_train, X_test = X[train_id], X[test_id]\n",
    "        y_train, y_test = y[train_id], y[test_id]\n",
    "    return X_train, X_test, y_train, y_test"
   ]
  },
  {
   "cell_type": "code",
   "execution_count": 91,
   "id": "b7c758fd",
   "metadata": {},
   "outputs": [
    {
     "name": "stdout",
     "output_type": "stream",
     "text": [
      "Wall time: 0 ns\n"
     ]
    }
   ],
   "source": [
    "%%time\n",
    "def execute_tree_classifier(classifier, X_train, X_test, y_train):\n",
    "    tree_classifier = classifier.fit(X_train, y_train)\n",
    "    y_pred = tree_classifier.predict(X_test)\n",
    "    return y_pred"
   ]
  },
  {
   "cell_type": "code",
   "execution_count": 92,
   "id": "b2ea0849",
   "metadata": {},
   "outputs": [],
   "source": [
    "def save_tree(classifier, name):\n",
    "    plt.figure(figsize=(200,100))\n",
    "    tree.plot_tree(classifier, filled=True, fontsize=14)\n",
    "    plt.savefig(name)\n",
    "    plt.close()"
   ]
  },
  {
   "cell_type": "code",
   "execution_count": 93,
   "id": "9b352af3",
   "metadata": {},
   "outputs": [],
   "source": [
    "def validate_tree(y_test, y_pred):\n",
    "    print(f'Accuracy Score \\n{accuracy_score(y_test, y_pred)}\\n')\n",
    "    print(f'Confusion Matrix \\n{confusion_matrix(y_test, y_pred)}\\n')\n",
    "    print(f'Precision Score \\n{precision_score(y_test, y_pred)}\\n')\n",
    "    print(f'Recall Score \\n{recall_score(y_test, y_pred)}\\n')"
   ]
  },
  {
   "cell_type": "markdown",
   "id": "548fad0f",
   "metadata": {},
   "source": [
    "## Model"
   ]
  },
  {
   "cell_type": "code",
   "execution_count": 94,
   "id": "467a27e1",
   "metadata": {},
   "outputs": [],
   "source": [
    "# executing the split\n",
    "\n",
    "X = dados.drop('Class', axis=1).values\n",
    "y = dados['Class'].values\n",
    "X_train, X_test, y_train, y_test = execute_validator(X, y)"
   ]
  },
  {
   "cell_type": "code",
   "execution_count": 95,
   "id": "d3ea3e74",
   "metadata": {},
   "outputs": [],
   "source": [
    "# executing the tree classifier\n",
    "\n",
    "tree_decision_classifier = tree.DecisionTreeClassifier()\n",
    "y_pred_decision_tree = execute_tree_classifier(tree_decision_classifier, X_train, X_test, y_train)"
   ]
  },
  {
   "cell_type": "code",
   "execution_count": 114,
   "id": "87087b5f",
   "metadata": {},
   "outputs": [],
   "source": [
    "# plotting decision tree\n",
    "\n",
    "save_tree(tree_decision_classifier, 'decision_tree_1.png')"
   ]
  },
  {
   "cell_type": "code",
   "execution_count": 97,
   "id": "9f9be1a7",
   "metadata": {},
   "outputs": [
    {
     "name": "stdout",
     "output_type": "stream",
     "text": [
      "Accuracy Score \n",
      "0.9990871107053826\n",
      "\n",
      "Confusion Matrix \n",
      "[[28420    14]\n",
      " [   12    35]]\n",
      "\n",
      "Precision Score \n",
      "0.7142857142857143\n",
      "\n",
      "Recall Score \n",
      "0.7446808510638298\n",
      "\n"
     ]
    }
   ],
   "source": [
    "# validation\n",
    "\n",
    "validate_tree(y_pred_decision_tree, y_test)"
   ]
  },
  {
   "cell_type": "markdown",
   "id": "5e618bed",
   "metadata": {},
   "source": [
    "## Parameters"
   ]
  },
  {
   "cell_type": "code",
   "execution_count": 102,
   "id": "3a3e4236",
   "metadata": {},
   "outputs": [
    {
     "name": "stdout",
     "output_type": "stream",
     "text": [
      "21\n"
     ]
    }
   ],
   "source": [
    "print(tree_decision_classifier.get_depth())"
   ]
  },
  {
   "cell_type": "code",
   "execution_count": 105,
   "id": "07b13613",
   "metadata": {},
   "outputs": [
    {
     "name": "stdout",
     "output_type": "stream",
     "text": [
      "Accuracy Score \n",
      "0.9993679997191109\n",
      "\n",
      "Confusion Matrix \n",
      "[[28426    12]\n",
      " [    6    37]]\n",
      "\n",
      "Precision Score \n",
      "0.7551020408163265\n",
      "\n",
      "Recall Score \n",
      "0.8604651162790697\n",
      "\n"
     ]
    }
   ],
   "source": [
    "# executing the tree classifier\n",
    "## min_samples_leaf\n",
    "\n",
    "tree_decision_classifier = tree.DecisionTreeClassifier(max_depth=10, random_state=0, min_samples_leaf=10)\n",
    "y_pred_decision_tree = execute_tree_classifier(tree_decision_classifier, X_train, X_test, y_train)\n",
    "validate_tree(y_pred_decision_tree, y_test)"
   ]
  },
  {
   "cell_type": "code",
   "execution_count": 106,
   "id": "16af83aa",
   "metadata": {},
   "outputs": [
    {
     "name": "stdout",
     "output_type": "stream",
     "text": [
      "Accuracy Score \n",
      "0.9994733330992591\n",
      "\n",
      "Confusion Matrix \n",
      "[[28430    13]\n",
      " [    2    36]]\n",
      "\n",
      "Precision Score \n",
      "0.7346938775510204\n",
      "\n",
      "Recall Score \n",
      "0.9473684210526315\n",
      "\n"
     ]
    }
   ],
   "source": [
    "# executing the tree classifier\n",
    "## max_depth\n",
    "\n",
    "tree_decision_classifier = tree.DecisionTreeClassifier(max_depth=10, random_state=0)\n",
    "y_pred_decision_tree = execute_tree_classifier(tree_decision_classifier, X_train, X_test, y_train)\n",
    "validate_tree(y_pred_decision_tree, y_test)"
   ]
  },
  {
   "cell_type": "code",
   "execution_count": 107,
   "id": "9aaa49f3",
   "metadata": {},
   "outputs": [
    {
     "name": "stdout",
     "output_type": "stream",
     "text": [
      "Accuracy Score \n",
      "0.999403110845827\n",
      "\n",
      "Confusion Matrix \n",
      "[[28429    14]\n",
      " [    3    35]]\n",
      "\n",
      "Precision Score \n",
      "0.7142857142857143\n",
      "\n",
      "Recall Score \n",
      "0.9210526315789473\n",
      "\n"
     ]
    }
   ],
   "source": [
    "# executing the tree classifier\n",
    "## max_depth\n",
    "\n",
    "tree_decision_classifier = tree.DecisionTreeClassifier(max_depth=5, random_state=0)\n",
    "y_pred_decision_tree = execute_tree_classifier(tree_decision_classifier, X_train, X_test, y_train)\n",
    "validate_tree(y_pred_decision_tree, y_test)"
   ]
  },
  {
   "cell_type": "markdown",
   "id": "364861f9",
   "metadata": {},
   "source": [
    "## Ensemble - Random Forest"
   ]
  },
  {
   "cell_type": "code",
   "execution_count": 110,
   "id": "4f9a1940",
   "metadata": {},
   "outputs": [
    {
     "name": "stdout",
     "output_type": "stream",
     "text": [
      "Accuracy Score \n",
      "0.9995435553526912\n",
      "\n",
      "Confusion Matrix \n",
      "[[28431    12]\n",
      " [    1    37]]\n",
      "\n",
      "Precision Score \n",
      "0.7551020408163265\n",
      "\n",
      "Recall Score \n",
      "0.9736842105263158\n",
      "\n"
     ]
    }
   ],
   "source": [
    "%%time\n",
    "random_forest_classifier = RandomForestClassifier(n_estimators=50, random_state=0, max_depth=10)\n",
    "y_pred_decision_tree = execute_tree_classifier(random_forest_classifier, X_train, X_test, y_train)\n",
    "validate_tree(y_pred_decision_tree, y_test)"
   ]
  },
  {
   "cell_type": "code",
   "execution_count": 112,
   "id": "f6384f0a",
   "metadata": {},
   "outputs": [
    {
     "name": "stdout",
     "output_type": "stream",
     "text": [
      "Accuracy Score \n",
      "0.9995084442259752\n",
      "\n",
      "Confusion Matrix \n",
      "[[28430    12]\n",
      " [    2    37]]\n",
      "\n",
      "Precision Score \n",
      "0.7551020408163265\n",
      "\n",
      "Recall Score \n",
      "0.9487179487179487\n",
      "\n",
      "Wall time: 2min 17s\n"
     ]
    }
   ],
   "source": [
    "%%time\n",
    "random_forest_classifier = RandomForestClassifier(n_estimators=100, random_state=0, max_depth=10)\n",
    "y_pred_decision_tree = execute_tree_classifier(random_forest_classifier, X_train, X_test, y_train)\n",
    "validate_tree(y_pred_decision_tree, y_test)"
   ]
  },
  {
   "cell_type": "code",
   "execution_count": 116,
   "id": "aa60a8bf",
   "metadata": {},
   "outputs": [],
   "source": [
    "save_tree(random_forest_classifier.estimators_[0], 'random_forest_1.png')\n",
    "save_tree(random_forest_classifier.estimators_[1], 'random_forest_2.png')"
   ]
  },
  {
   "cell_type": "code",
   "execution_count": 119,
   "id": "3f5097b9",
   "metadata": {},
   "outputs": [
    {
     "name": "stdout",
     "output_type": "stream",
     "text": [
      "Accuracy Score \n",
      "0.9994733330992591\n",
      "\n",
      "Confusion Matrix \n",
      "[[28430    13]\n",
      " [    2    36]]\n",
      "\n",
      "Precision Score \n",
      "0.7346938775510204\n",
      "\n",
      "Recall Score \n",
      "0.9473684210526315\n",
      "\n",
      "Wall time: 15.5 s\n"
     ]
    }
   ],
   "source": [
    "%%time\n",
    "random_forest_classifier = RandomForestClassifier(n_estimators=20, random_state=0, max_depth=5)\n",
    "y_pred_decision_tree = execute_tree_classifier(random_forest_classifier, X_train, X_test, y_train)\n",
    "validate_tree(y_pred_decision_tree, y_test)"
   ]
  },
  {
   "cell_type": "markdown",
   "id": "2a18943b",
   "metadata": {},
   "source": [
    "## adaboost"
   ]
  },
  {
   "cell_type": "code",
   "execution_count": 121,
   "id": "9dee43ff",
   "metadata": {},
   "outputs": [
    {
     "name": "stdout",
     "output_type": "stream",
     "text": [
      "Accuracy Score \n",
      "0.9992626663389628\n",
      "\n",
      "Confusion Matrix \n",
      "[[28428    17]\n",
      " [    4    32]]\n",
      "\n",
      "Precision Score \n",
      "0.6530612244897959\n",
      "\n",
      "Recall Score \n",
      "0.8888888888888888\n",
      "\n"
     ]
    }
   ],
   "source": [
    "%%time\n",
    "adaboost = AdaBoostClassifier(random_state=0)\n",
    "y_pred_adaboost = execute_tree_classifier(adaboost, X_train, X_test, y_train)\n",
    "validate_tree(y_pred_adaboost, y_test)"
   ]
  },
  {
   "cell_type": "code",
   "execution_count": 122,
   "id": "391756e2",
   "metadata": {},
   "outputs": [],
   "source": [
    "save_tree(adaboost.estimators_[0], 'adaboost_1.png')"
   ]
  },
  {
   "cell_type": "code",
   "execution_count": 123,
   "id": "f62f9c5c",
   "metadata": {},
   "outputs": [
    {
     "name": "stdout",
     "output_type": "stream",
     "text": [
      "Accuracy Score \n",
      "0.999403110845827\n",
      "\n",
      "Confusion Matrix \n",
      "[[28426    11]\n",
      " [    6    38]]\n",
      "\n",
      "Precision Score \n",
      "0.7755102040816326\n",
      "\n",
      "Recall Score \n",
      "0.8636363636363636\n",
      "\n",
      "Wall time: 2min 17s\n"
     ]
    }
   ],
   "source": [
    "%%time\n",
    "adaboost = AdaBoostClassifier(random_state=0, n_estimators=100)\n",
    "y_pred_adaboost = execute_tree_classifier(adaboost, X_train, X_test, y_train)\n",
    "validate_tree(y_pred_adaboost, y_test)"
   ]
  },
  {
   "cell_type": "code",
   "execution_count": 124,
   "id": "bdf2762e",
   "metadata": {},
   "outputs": [
    {
     "name": "stdout",
     "output_type": "stream",
     "text": [
      "Accuracy Score \n",
      "0.9995435553526912\n",
      "\n",
      "Confusion Matrix \n",
      "[[28429    10]\n",
      " [    3    39]]\n",
      "\n",
      "Precision Score \n",
      "0.7959183673469388\n",
      "\n",
      "Recall Score \n",
      "0.9285714285714286\n",
      "\n",
      "Wall time: 4min 25s\n"
     ]
    }
   ],
   "source": [
    "%%time\n",
    "adaboost = AdaBoostClassifier(random_state=0, n_estimators=200)\n",
    "y_pred_adaboost = execute_tree_classifier(adaboost, X_train, X_test, y_train)\n",
    "validate_tree(y_pred_adaboost, y_test)"
   ]
  },
  {
   "cell_type": "code",
   "execution_count": null,
   "id": "33ebe5fe",
   "metadata": {},
   "outputs": [],
   "source": []
  }
 ],
 "metadata": {
  "kernelspec": {
   "display_name": "Python 3 (ipykernel)",
   "language": "python",
   "name": "python3"
  },
  "language_info": {
   "codemirror_mode": {
    "name": "ipython",
    "version": 3
   },
   "file_extension": ".py",
   "mimetype": "text/x-python",
   "name": "python",
   "nbconvert_exporter": "python",
   "pygments_lexer": "ipython3",
   "version": "3.8.11"
  }
 },
 "nbformat": 4,
 "nbformat_minor": 5
}
